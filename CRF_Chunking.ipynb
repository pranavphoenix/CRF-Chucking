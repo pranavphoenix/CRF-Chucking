{
  "nbformat": 4,
  "nbformat_minor": 0,
  "metadata": {
    "colab": {
      "name": "Full Code Chunking CRF.ipynb",
      "provenance": []
    },
    "kernelspec": {
      "name": "python3",
      "display_name": "Python 3"
    },
    "accelerator": "GPU"
  },
  "cells": [
    {
      "cell_type": "code",
      "metadata": {
        "id": "bC2rzQGzz-ub",
        "colab": {
          "base_uri": "https://localhost:8080/",
          "height": 661
        },
        "outputId": "3e106ee7-0073-4bec-93c5-23ede04d5bbe"
      },
      "source": [
        "import nltk\n",
        "import os,sys\n",
        "from io import open\n",
        "import numpy as np\n",
        "from nltk.stem.snowball import SnowballStemmer\n",
        "from itertools import chain\n",
        "import sklearn\n",
        "import scipy.stats\n",
        "from sklearn.metrics import make_scorer\n",
        "from sklearn.model_selection import cross_val_score\n",
        "from sklearn.model_selection import RandomizedSearchCV\n",
        "\n",
        "!pip install sklearn-crfsuite\n",
        "import sklearn_crfsuite \n",
        "from sklearn_crfsuite import scorers\n",
        "from sklearn_crfsuite import metrics\n",
        "\n",
        "!wget http://nlp.stanford.edu/data/glove.6B.zip\n",
        "!unzip glove.6B.zip\n",
        "\n",
        "glove_dir = './'\n",
        "\n",
        "embeddings_index = {} #initialize dictionary\n",
        "f = open(os.path.join(glove_dir, 'glove.6B.100d.txt'))\n",
        "for line in f:\n",
        "    values = line.split()\n",
        "    word = values[0]\n",
        "    coefs = np.asarray(values[1:], dtype='float32')\n",
        "    embeddings_index[word] = coefs\n",
        "f.close()\n",
        "\n",
        "print('Found %s word vectors.' % len(embeddings_index))\n",
        "\n"
      ],
      "execution_count": null,
      "outputs": [
        {
          "output_type": "stream",
          "text": [
            "Collecting sklearn-crfsuite\n",
            "  Downloading https://files.pythonhosted.org/packages/25/74/5b7befa513482e6dee1f3dd68171a6c9dfc14c0eaa00f885ffeba54fe9b0/sklearn_crfsuite-0.3.6-py2.py3-none-any.whl\n",
            "Requirement already satisfied: tqdm>=2.0 in /usr/local/lib/python3.6/dist-packages (from sklearn-crfsuite) (4.41.1)\n",
            "Requirement already satisfied: six in /usr/local/lib/python3.6/dist-packages (from sklearn-crfsuite) (1.15.0)\n",
            "Requirement already satisfied: tabulate in /usr/local/lib/python3.6/dist-packages (from sklearn-crfsuite) (0.8.7)\n",
            "Collecting python-crfsuite>=0.8.3\n",
            "\u001b[?25l  Downloading https://files.pythonhosted.org/packages/95/99/869dde6dbf3e0d07a013c8eebfb0a3d30776334e0097f8432b631a9a3a19/python_crfsuite-0.9.7-cp36-cp36m-manylinux1_x86_64.whl (743kB)\n",
            "\u001b[K     |████████████████████████████████| 747kB 6.0MB/s \n",
            "\u001b[?25hInstalling collected packages: python-crfsuite, sklearn-crfsuite\n",
            "Successfully installed python-crfsuite-0.9.7 sklearn-crfsuite-0.3.6\n",
            "--2020-10-03 22:51:46--  http://nlp.stanford.edu/data/glove.6B.zip\n",
            "Resolving nlp.stanford.edu (nlp.stanford.edu)... 171.64.67.140\n",
            "Connecting to nlp.stanford.edu (nlp.stanford.edu)|171.64.67.140|:80... connected.\n",
            "HTTP request sent, awaiting response... 302 Found\n",
            "Location: https://nlp.stanford.edu/data/glove.6B.zip [following]\n",
            "--2020-10-03 22:51:46--  https://nlp.stanford.edu/data/glove.6B.zip\n",
            "Connecting to nlp.stanford.edu (nlp.stanford.edu)|171.64.67.140|:443... connected.\n",
            "HTTP request sent, awaiting response... 301 Moved Permanently\n",
            "Location: http://downloads.cs.stanford.edu/nlp/data/glove.6B.zip [following]\n",
            "--2020-10-03 22:51:46--  http://downloads.cs.stanford.edu/nlp/data/glove.6B.zip\n",
            "Resolving downloads.cs.stanford.edu (downloads.cs.stanford.edu)... 171.64.64.22\n",
            "Connecting to downloads.cs.stanford.edu (downloads.cs.stanford.edu)|171.64.64.22|:80... connected.\n",
            "HTTP request sent, awaiting response... 200 OK\n",
            "Length: 862182613 (822M) [application/zip]\n",
            "Saving to: ‘glove.6B.zip’\n",
            "\n",
            "glove.6B.zip        100%[===================>] 822.24M  1.92MB/s    in 6m 34s  \n",
            "\n",
            "2020-10-03 22:58:20 (2.09 MB/s) - ‘glove.6B.zip’ saved [862182613/862182613]\n",
            "\n",
            "Archive:  glove.6B.zip\n",
            "  inflating: glove.6B.50d.txt        \n",
            "  inflating: glove.6B.100d.txt       \n",
            "  inflating: glove.6B.200d.txt       \n",
            "  inflating: glove.6B.300d.txt       \n",
            "Found 400000 word vectors.\n"
          ],
          "name": "stdout"
        }
      ]
    },
    {
      "cell_type": "code",
      "metadata": {
        "id": "CpW8sewO2t4q"
      },
      "source": [
        "import nltk\n",
        "import os,sys\n",
        "from io import open\n",
        "import numpy as np\n",
        "from nltk.stem.snowball import SnowballStemmer\n",
        "from itertools import chain\n",
        "import sklearn\n",
        "import scipy.stats\n",
        "from sklearn.metrics import make_scorer\n",
        "from sklearn.model_selection import cross_val_score\n",
        "from sklearn.model_selection import RandomizedSearchCV\n"
      ],
      "execution_count": null,
      "outputs": []
    },
    {
      "cell_type": "code",
      "metadata": {
        "id": "ZCu5wzz81EKX",
        "colab": {
          "base_uri": "https://localhost:8080/",
          "height": 35
        },
        "outputId": "2dff441b-85bd-4c6d-9344-e69a6f311e57"
      },
      "source": [
        "glove_dir = './'\n",
        "\n",
        "embeddings_index = {} #initialize dictionary\n",
        "f = open(os.path.join(glove_dir, 'glove.6B.50d.txt'))\n",
        "for line in f:\n",
        "    values = line.split()\n",
        "    word = values[0]\n",
        "    coefs = np.asarray(values[1:], dtype='float32')\n",
        "    embeddings_index[word] = coefs\n",
        "f.close()\n",
        "\n",
        "print('Found %s word vectors.' % len(embeddings_index))"
      ],
      "execution_count": null,
      "outputs": [
        {
          "output_type": "stream",
          "text": [
            "Found 400000 word vectors.\n"
          ],
          "name": "stdout"
        }
      ]
    },
    {
      "cell_type": "code",
      "metadata": {
        "id": "oOtSHmcJvu9Y"
      },
      "source": [
        "train = open(\"train.txt\", \"r\")\n",
        "test = open(\"test.txt\", \"r\")\n",
        "train_lines = train.readlines()\n",
        "test_lines = test.readlines()\n",
        "\n",
        "train_sentences  = [ [] for _ in range(8936) ]\n",
        "train_chunks = [ [] for _ in range(8936) ]\n",
        "j = 0\n",
        "for line in train_lines:\n",
        "  if line == '\\n':\n",
        "    j = j+1\n",
        "  else:\n",
        "    train_sentences[j].append((line.split()[0], line.split()[1], line.split()[2].split('-')[0]))\n",
        "    train_chunks[j].append(line.split()[2].split('-')[0])\n",
        "\n",
        "test_sentences  = [ [] for _ in range(2012) ]\n",
        "test_chunks = [ [] for _ in range(2012) ]\n",
        "j = 0\n",
        "for line in test_lines:\n",
        "  if line == '\\n':\n",
        "    j = j+1\n",
        "  else:\n",
        "    test_sentences[j].append((line.split()[0], line.split()[1], line.split()[2].split('-')[0]))\n",
        "    test_chunks[j].append(line.split()[2].split('-')[0])\n",
        "\n",
        "stemmer = SnowballStemmer(\"english\")"
      ],
      "execution_count": null,
      "outputs": []
    },
    {
      "cell_type": "code",
      "metadata": {
        "id": "6b9gsbkofxlK"
      },
      "source": [
        "def get_features(word):\n",
        "    word = word.lower()\n",
        "    try:\n",
        "         vector = embeddings_index[word]\n",
        "    except:\n",
        "        # if the word is not in vocabulary,\n",
        "        # returns zeros array\n",
        "        vector=np.zeros(300,)\n",
        "\n",
        "    return vector  \n",
        "\n",
        "def word2features(sent, i):\n",
        "    word = sent[i][0]\n",
        "    wordembdding = get_features(word)\n",
        "    postag = sent[i][1]\n",
        "    stem_word = stemmer.stem(word)\n",
        "    features = {\n",
        "        'bias': 1.0,\n",
        "        'word.lower()': word.lower(),\n",
        "        'word_suffix[-3:]': word[-3:],\n",
        "        'word_suffix[-2:]': word[-2:],\n",
        "        'word_suffix[-1:]': word[-1:],\n",
        "        'word_prefix[-3:]': word[:3],\n",
        "        'word_prefix[-2:]': word[:2],\n",
        "        'word_prefix[-1:]': word[:1],\n",
        "        'word.isupper()': word.isupper(),\n",
        "        'word.istitle()': word.istitle(),\n",
        "        'word.isdigit()': word.isdigit(),\n",
        "        #'postag': postag,\n",
        "        'stem': stem_word\n",
        "    }\n",
        "    for iv,value in enumerate(wordembdding):\n",
        "        features['v{}'.format(iv)] = value\n",
        "    if i > 0:\n",
        "        previous_word = sent[i-1][0]\n",
        "        previous_word_postag = sent[i-1][1]\n",
        "        previous_word_chunk = sent[i-1][2]\n",
        "        previous_wordembedding = get_features(previous_word)\n",
        "        features.update({\n",
        "            '-1:word.lower()': previous_word.lower(),\n",
        "            '-1:word.istitle()': previous_word.istitle(),\n",
        "            '-1:word.isupper()': previous_word.isupper(),\n",
        "            '-1:word.isdigit()': previous_word.isdigit(),\n",
        "            #'-1:postag': previous_word_postag,\n",
        "            '-1:chunk': previous_word_chunk,\n",
        "        })\n",
        "        for iv,value in enumerate(previous_wordembedding):\n",
        "          features['-1:v{}'.format(iv)] = value\n",
        "        \n",
        "        if i > 1:\n",
        "          pre_pre_word = sent[i-2][0]\n",
        "          pre_pre_word_postag = sent[i-2][1]\n",
        "          pre_pre_word_chunk = sent[i-2][2]\n",
        "          pre_pre_wordembedding = get_features(pre_pre_word)\n",
        "          features.update({\n",
        "            '-2:word.lower()': pre_pre_word.lower(),\n",
        "            '-2:word.istitle()': pre_pre_word.istitle(),\n",
        "            '-2:word.isupper()': pre_pre_word.isupper(),\n",
        "            '-2:word.isdigit()': pre_pre_word.isdigit(),\n",
        "            #'-2:postag': pre_pre_word_postag,\n",
        "            '-2:chunk': pre_pre_word_chunk,\n",
        "          })\n",
        "          for iv,value in enumerate(pre_pre_wordembedding):\n",
        "            features['-2:v{}'.format(iv)] = value\n",
        "\n",
        "        else:\n",
        "          features['second_word'] = True\n",
        "\n",
        "        \n",
        "    else:\n",
        "        features['BOS'] = True\n",
        "\n",
        "    if i < len(sent)-1:\n",
        "        next_word = sent[i+1][0]\n",
        "        next_word_postag = sent[i+1][1]\n",
        "        next_wordembedding = get_features(next_word)\n",
        "        features.update({\n",
        "            '+1:word.lower()': next_word.lower(),\n",
        "            '+1:word.istitle()': next_word.istitle(),\n",
        "            '+1:word.isupper()': next_word.isupper(),\n",
        "            '+1:word.isdigit()': next_word.isdigit(),\n",
        "            #'+1:postag': next_word_postag,\n",
        "        })\n",
        "        for iv,value in enumerate(next_wordembedding):\n",
        "          features['+1:v{}'.format(iv)] = value\n",
        "    else:\n",
        "        features['EOS'] = True\n",
        "\n",
        "    return features\n",
        "\n",
        "\n",
        "def sent2features(sent):\n",
        "    return [word2features(sent, i) for i in range(len(sent))]\n",
        "\n",
        "def sent2labels(sent):\n",
        "    return [label for label in sent]\n",
        "\n"
      ],
      "execution_count": null,
      "outputs": []
    },
    {
      "cell_type": "code",
      "metadata": {
        "id": "onPSXVCpjiRH"
      },
      "source": [
        "X_train = [sent2features(s) for s in train_sentences]\n",
        "y_train = [sent2labels(s) for s in train_chunks]\n",
        "\n",
        "X_test = [sent2features(s) for s in test_sentences]\n",
        "y_test = [sent2labels(s) for s in test_chunks]"
      ],
      "execution_count": null,
      "outputs": []
    },
    {
      "cell_type": "code",
      "metadata": {
        "id": "AJMo56aYzKTV",
        "colab": {
          "base_uri": "https://localhost:8080/",
          "height": 104
        },
        "outputId": "2814aa05-4370-48be-872d-c4390bd4052e"
      },
      "source": [
        "!pip install sklearn-crfsuite\n",
        "import sklearn_crfsuite \n",
        "from sklearn_crfsuite import scorers\n",
        "from sklearn_crfsuite import metrics"
      ],
      "execution_count": null,
      "outputs": [
        {
          "output_type": "stream",
          "text": [
            "Requirement already satisfied: sklearn-crfsuite in /usr/local/lib/python3.6/dist-packages (0.3.6)\n",
            "Requirement already satisfied: tqdm>=2.0 in /usr/local/lib/python3.6/dist-packages (from sklearn-crfsuite) (4.41.1)\n",
            "Requirement already satisfied: python-crfsuite>=0.8.3 in /usr/local/lib/python3.6/dist-packages (from sklearn-crfsuite) (0.9.7)\n",
            "Requirement already satisfied: tabulate in /usr/local/lib/python3.6/dist-packages (from sklearn-crfsuite) (0.8.7)\n",
            "Requirement already satisfied: six in /usr/local/lib/python3.6/dist-packages (from sklearn-crfsuite) (1.15.0)\n"
          ],
          "name": "stdout"
        }
      ]
    },
    {
      "cell_type": "code",
      "metadata": {
        "id": "vHEX8AxpjQmT",
        "colab": {
          "base_uri": "https://localhost:8080/",
          "height": 193
        },
        "outputId": "249ded72-d50e-448b-9a84-8951ff0ee881"
      },
      "source": [
        "crf = sklearn_crfsuite.CRF(\n",
        "    algorithm = 'l2sgd',\n",
        "    c2 = 1,\n",
        "    max_iterations = 1000,\n",
        "    all_possible_transitions = True\n",
        ")\n",
        "crf.fit(X_train, y_train)"
      ],
      "execution_count": null,
      "outputs": [
        {
          "output_type": "stream",
          "text": [
            "/usr/local/lib/python3.6/dist-packages/sklearn/base.py:197: FutureWarning: From version 0.24, get_params will raise an AttributeError if a parameter cannot be retrieved as an instance attribute. Previously it would return None.\n",
            "  FutureWarning)\n"
          ],
          "name": "stderr"
        },
        {
          "output_type": "execute_result",
          "data": {
            "text/plain": [
              "CRF(algorithm='l2sgd', all_possible_states=None, all_possible_transitions=True,\n",
              "    averaging=None, c=None, c1=None, c2=1, calibration_candidates=None,\n",
              "    calibration_eta=None, calibration_max_trials=None, calibration_rate=None,\n",
              "    calibration_samples=None, delta=None, epsilon=None, error_sensitive=None,\n",
              "    gamma=None, keep_tempfiles=None, linesearch=None, max_iterations=1000,\n",
              "    max_linesearch=None, min_freq=None, model_filename=None, num_memories=None,\n",
              "    pa_type=None, period=None, trainer_cls=None, variance=None, verbose=False)"
            ]
          },
          "metadata": {
            "tags": []
          },
          "execution_count": 8
        }
      ]
    },
    {
      "cell_type": "code",
      "metadata": {
        "id": "4eLhb9XvsYtz",
        "colab": {
          "base_uri": "https://localhost:8080/",
          "height": 35
        },
        "outputId": "de6515ab-5afd-40d5-a36a-33bfbd3209c2"
      },
      "source": [
        "labels = list(crf.classes_)\n",
        "labels.remove('O')\n",
        "labels"
      ],
      "execution_count": null,
      "outputs": [
        {
          "output_type": "execute_result",
          "data": {
            "text/plain": [
              "['B', 'I']"
            ]
          },
          "metadata": {
            "tags": []
          },
          "execution_count": 9
        }
      ]
    },
    {
      "cell_type": "code",
      "metadata": {
        "id": "dLQ_6iYXshy_",
        "colab": {
          "base_uri": "https://localhost:8080/",
          "height": 35
        },
        "outputId": "e465e1d5-9a20-4b2c-a6ff-d9706d3f5c5e"
      },
      "source": [
        "y_pred = crf.predict(X_test)\n",
        "metrics.flat_f1_score(y_test, y_pred,\n",
        "                      average='weighted', labels=labels)"
      ],
      "execution_count": null,
      "outputs": [
        {
          "output_type": "execute_result",
          "data": {
            "text/plain": [
              "0.9468818196865595"
            ]
          },
          "metadata": {
            "tags": []
          },
          "execution_count": 10
        }
      ]
    },
    {
      "cell_type": "code",
      "metadata": {
        "id": "NYZjKRdjvuJs",
        "colab": {
          "base_uri": "https://localhost:8080/",
          "height": 35
        },
        "outputId": "2e76d37e-f982-4571-d564-ef4fbe510bb8"
      },
      "source": [
        "metrics.flat_precision_score(y_test, y_pred,average='weighted', labels=labels )"
      ],
      "execution_count": null,
      "outputs": [
        {
          "output_type": "execute_result",
          "data": {
            "text/plain": [
              "0.9472851223942946"
            ]
          },
          "metadata": {
            "tags": []
          },
          "execution_count": 11
        }
      ]
    },
    {
      "cell_type": "code",
      "metadata": {
        "id": "yrtT7hH4wMEv",
        "colab": {
          "base_uri": "https://localhost:8080/",
          "height": 35
        },
        "outputId": "8b1d366b-0bca-45d4-f8dd-81f2dba78195"
      },
      "source": [
        "metrics.flat_recall_score(y_test, y_pred,average='weighted', labels=labels )"
      ],
      "execution_count": null,
      "outputs": [
        {
          "output_type": "execute_result",
          "data": {
            "text/plain": [
              "0.9634924873170376"
            ]
          },
          "metadata": {
            "tags": []
          },
          "execution_count": 11
        }
      ]
    },
    {
      "cell_type": "code",
      "metadata": {
        "id": "n1nY1I5hvOP4",
        "colab": {
          "base_uri": "https://localhost:8080/",
          "height": 173
        },
        "outputId": "442a98a2-11e2-432a-e58f-2f444f81644b"
      },
      "source": [
        "sorted_labels = sorted(\n",
        "    labels,\n",
        "    key=lambda name: (name[1:], name[0])\n",
        ")\n",
        "print(metrics.flat_classification_report(\n",
        "    y_test, y_pred, labels=sorted_labels, digits=3\n",
        "))"
      ],
      "execution_count": null,
      "outputs": [
        {
          "output_type": "stream",
          "text": [
            "              precision    recall  f1-score   support\n",
            "\n",
            "           B      0.966     0.939     0.952     23852\n",
            "           I      0.922     0.958     0.940     17345\n",
            "\n",
            "   micro avg      0.947     0.947     0.947     41197\n",
            "   macro avg      0.944     0.948     0.946     41197\n",
            "weighted avg      0.947     0.947     0.947     41197\n",
            "\n"
          ],
          "name": "stdout"
        }
      ]
    },
    {
      "cell_type": "code",
      "metadata": {
        "id": "Y3hwQIpXqMtD"
      },
      "source": [
        "import pandas as pd\n",
        "chunk_list = ['B','I','O']\n",
        "conf_mat_df = pd.DataFrame(columns=chunk_list, index=chunk_list)\n",
        "conf_mat_df = conf_mat_df.fillna(0)\n",
        "\n",
        "for sen_num in range(len(test_chunks)):\n",
        "  for i,chunk in enumerate(test_chunks[sen_num]):\n",
        "    conf_mat_df[chunk][y_pred[sen_num][i]] +=1"
      ],
      "execution_count": null,
      "outputs": []
    },
    {
      "cell_type": "code",
      "metadata": {
        "id": "cbZ25EO4xgpq",
        "colab": {
          "base_uri": "https://localhost:8080/",
          "height": 141
        },
        "outputId": "0554146e-83d2-4b1d-dc92-4f350db87842"
      },
      "source": [
        "conf_mat_df"
      ],
      "execution_count": null,
      "outputs": [
        {
          "output_type": "execute_result",
          "data": {
            "text/html": [
              "<div>\n",
              "<style scoped>\n",
              "    .dataframe tbody tr th:only-of-type {\n",
              "        vertical-align: middle;\n",
              "    }\n",
              "\n",
              "    .dataframe tbody tr th {\n",
              "        vertical-align: top;\n",
              "    }\n",
              "\n",
              "    .dataframe thead th {\n",
              "        text-align: right;\n",
              "    }\n",
              "</style>\n",
              "<table border=\"1\" class=\"dataframe\">\n",
              "  <thead>\n",
              "    <tr style=\"text-align: right;\">\n",
              "      <th></th>\n",
              "      <th>B</th>\n",
              "      <th>I</th>\n",
              "      <th>O</th>\n",
              "    </tr>\n",
              "  </thead>\n",
              "  <tbody>\n",
              "    <tr>\n",
              "      <th>B</th>\n",
              "      <td>22397</td>\n",
              "      <td>698</td>\n",
              "      <td>97</td>\n",
              "    </tr>\n",
              "    <tr>\n",
              "      <th>I</th>\n",
              "      <td>1394</td>\n",
              "      <td>16616</td>\n",
              "      <td>13</td>\n",
              "    </tr>\n",
              "    <tr>\n",
              "      <th>O</th>\n",
              "      <td>61</td>\n",
              "      <td>31</td>\n",
              "      <td>6070</td>\n",
              "    </tr>\n",
              "  </tbody>\n",
              "</table>\n",
              "</div>"
            ],
            "text/plain": [
              "       B      I     O\n",
              "B  22397    698    97\n",
              "I   1394  16616    13\n",
              "O     61     31  6070"
            ]
          },
          "metadata": {
            "tags": []
          },
          "execution_count": 13
        }
      ]
    },
    {
      "cell_type": "code",
      "metadata": {
        "id": "L1OV8qVRxq4U",
        "colab": {
          "base_uri": "https://localhost:8080/",
          "height": 283
        },
        "outputId": "ea5fb03a-b4c9-4813-c336-53f5b00f462b"
      },
      "source": [
        "import seaborn as sns\n",
        "\n",
        "sns.heatmap(conf_mat_df, cmap=\"YlGnBu\")"
      ],
      "execution_count": null,
      "outputs": [
        {
          "output_type": "execute_result",
          "data": {
            "text/plain": [
              "<matplotlib.axes._subplots.AxesSubplot at 0x7fddf580c0b8>"
            ]
          },
          "metadata": {
            "tags": []
          },
          "execution_count": 14
        },
        {
          "output_type": "display_data",
          "data": {
            "image/png": "[encoded data removed]",
            "text/plain": [
              "<Figure size 432x288 with 2 Axes>"
            ]
          },
          "metadata": {
            "tags": [],
            "needs_background": "light"
          }
        }
      ]
    }
  ]
}